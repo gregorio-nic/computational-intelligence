{
 "cells": [
  {
   "cell_type": "markdown",
   "id": "185f9931-b384-4fdc-a5b2-eea785428bb8",
   "metadata": {},
   "source": [
    "# Personal try to solve Halloween Challenge :) \n",
    "by Gregorio Nicora"
   ]
  },
  {
   "cell_type": "code",
   "execution_count": 94,
   "id": "3ffe7245-e849-41d0-9698-5f0e0b83fee9",
   "metadata": {
    "ExecuteTime": {
     "end_time": "2023-10-31T22:45:23.519270Z",
     "start_time": "2023-10-31T22:45:23.512058Z"
    }
   },
   "outputs": [],
   "source": [
    "import math\n",
    "from itertools import product\n",
    "from functools import reduce\n",
    "from random import random, randint, shuffle, seed, choice\n",
    "import numpy as np\n",
    "from scipy import sparse\n",
    "from copy import copy"
   ]
  },
  {
   "cell_type": "code",
   "execution_count": 95,
   "id": "6f03bd67-78a0-4d72-95b7-77a918727b91",
   "metadata": {
    "ExecuteTime": {
     "end_time": "2023-10-31T22:45:24.098218Z",
     "start_time": "2023-10-31T22:45:24.082359Z"
    }
   },
   "outputs": [],
   "source": [
    "def make_set_covering_problem(num_points, num_sets, density):\n",
    "    \"\"\"Returns a sparse array where rows are sets and columns are the covered items\"\"\"\n",
    "    seed(num_points*2654435761+num_sets+density)\n",
    "    sets = sparse.lil_array((num_sets, num_points), dtype=bool)\n",
    "    for s, p in product(range(num_sets), range(num_points)):\n",
    "        if random() < density:\n",
    "            sets[s, p] = True\n",
    "    for p in range(num_points):\n",
    "        sets[randint(0, num_sets-1), p] = True\n",
    "    return sets"
   ]
  },
  {
   "cell_type": "markdown",
   "id": "82b0be37-21d9-492d-9a1d-cf0cdf0ddd76",
   "metadata": {},
   "source": [
    "# Halloween Challenge\n",
    "\n",
    "Find the best solution with the fewest calls to the fitness functions for:\n",
    "\n",
    "* `num_points = [100, 1_000, 5_000]`\n",
    "* `num_sets = num_points`\n",
    "* `density = [.3, .7]` \n",
    "\n",
    "\n",
    "Using:\n",
    "* `simulated annealing`\n",
    "* `basic hill climbing`\n",
    "* `tabu search`\n",
    "* `iterated local search`\n",
    "* `or a mix of all of these`\n",
    "He doesn't care how, we need to find the best solution using the smallest number of evaluation(fitness function calls???)"
   ]
  },
  {
   "cell_type": "code",
   "execution_count": 104,
   "outputs": [],
   "source": [
    "NUM_POINTS = 100\n",
    "NUM_SETS = NUM_POINTS\n",
    "DENSITY = .3\n",
    "ITERATIONS = 100"
   ],
   "metadata": {
    "collapsed": false,
    "ExecuteTime": {
     "end_time": "2023-10-31T22:46:15.855763Z",
     "start_time": "2023-10-31T22:46:15.832566Z"
    }
   },
   "id": "72777c662cd47ba2"
  },
  {
   "cell_type": "code",
   "execution_count": 97,
   "id": "221ffdba-5d3d-48cc-bd08-45ccc9366ea6",
   "metadata": {
    "ExecuteTime": {
     "end_time": "2023-10-31T22:45:27.113593Z",
     "start_time": "2023-10-31T22:45:27.082808Z"
    }
   },
   "outputs": [
    {
     "name": "stdout",
     "output_type": "stream",
     "text": [
      "Element at row=42 and column=42: True\n"
     ]
    }
   ],
   "source": [
    "x = make_set_covering_problem(NUM_POINTS, NUM_SETS, DENSITY)\n",
    "print(\"Element at row=42 and column=42:\", x[42, 42])"
   ]
  },
  {
   "cell_type": "code",
   "execution_count": 98,
   "outputs": [],
   "source": [
    "SETS = x.toarray()"
   ],
   "metadata": {
    "collapsed": false,
    "ExecuteTime": {
     "end_time": "2023-10-31T22:45:27.915981Z",
     "start_time": "2023-10-31T22:45:27.908931Z"
    }
   },
   "id": "3ea78f5dafa65019"
  },
  {
   "cell_type": "code",
   "execution_count": 99,
   "outputs": [],
   "source": [
    "def fitness(state):\n",
    "    cost = sum(state)\n",
    "    valid = np.sum(\n",
    "        reduce(\n",
    "            np.logical_or,\n",
    "            [SETS[i] for i, t in enumerate(state) if t],\n",
    "            np.array([False for _ in range(NUM_POINTS)]),\n",
    "        )\n",
    "    )\n",
    "    return valid, -cost"
   ],
   "metadata": {
    "collapsed": false,
    "ExecuteTime": {
     "end_time": "2023-10-31T22:45:28.523045Z",
     "start_time": "2023-10-31T22:45:28.515571Z"
    }
   },
   "id": "9650462a6acf4dfa"
  },
  {
   "cell_type": "code",
   "execution_count": 100,
   "outputs": [],
   "source": [
    "def tweak(state):\n",
    "    new_state = copy(state)\n",
    "    index = randint(0, NUM_SETS - 1)\n",
    "    new_state[index] = not new_state[index]\n",
    "    return new_state"
   ],
   "metadata": {
    "collapsed": false,
    "ExecuteTime": {
     "end_time": "2023-10-31T22:45:29.084403Z",
     "start_time": "2023-10-31T22:45:29.072931Z"
    }
   },
   "id": "f24d24ea0e90a22f"
  },
  {
   "cell_type": "code",
   "execution_count": 101,
   "outputs": [
    {
     "name": "stdout",
     "output_type": "stream",
     "text": [
      "SETS\n",
      "[[ True  True False ... False  True False]\n",
      " [ True False False ...  True False  True]\n",
      " [False False False ... False  True  True]\n",
      " ...\n",
      " [False False  True ... False False  True]\n",
      " [False False False ... False False False]\n",
      " [False False False ...  True False  True]]\n",
      "[False, False, False, False, False, False, False, False, False, False, False, False, False, False, False, False, False, False, False, False, False, False, False, False, False, False, False, False, False, False, False, False, False, False, False, False, False, False, False, False, False, False, False, False, False, False, False, False, False, False, False, False, False, False, False, False, False, False, False, False, False, False, False, False, False, False, False, False, False, False, False, False, False, False, False, False, False, False, False, False, False, False, False, False, False, False, False, False, False, False, False, False, False, False, False, False, False, False, False, False]\n",
      "(0, 0)\n",
      "Step 0 : (25, -1)\n",
      "Step 1 : (49, -2)\n",
      "Step 2 : (65, -3)\n",
      "Step 3 : (76, -4)\n",
      "Step 4 : (86, -5)\n",
      "Step 5 : (89, -6)\n",
      "Step 6 : (91, -7)\n",
      "Step 7 : (92, -8)\n",
      "Step 8 : (96, -9)\n",
      "Step 10 : (99, -10)\n",
      "Step 13 : (99, -9)\n",
      "Step 20 : (100, -10)\n"
     ]
    }
   ],
   "source": [
    "current_state = [choice([False, False, False, False, False, False]) for _ in range(NUM_SETS)]\n",
    "print(\"SETS\", SETS, current_state, fitness(current_state), sep=\"\\n\")\n",
    "for step in range(ITERATIONS):\n",
    "    new_state = tweak(current_state)\n",
    "    if fitness(new_state) >= fitness(current_state):\n",
    "        current_state = new_state\n",
    "        print(\"Step\", step, \":\", fitness(current_state))"
   ],
   "metadata": {
    "collapsed": false,
    "ExecuteTime": {
     "end_time": "2023-10-31T22:45:30.905351Z",
     "start_time": "2023-10-31T22:45:30.208494Z"
    }
   },
   "id": "47ca303337ee821f"
  },
  {
   "cell_type": "markdown",
   "source": [
    "# Simulated Annealing"
   ],
   "metadata": {
    "collapsed": false
   },
   "id": "11cf35bbcc80518e"
  },
  {
   "cell_type": "code",
   "execution_count": 105,
   "outputs": [],
   "source": [
    "def compute_p(fit_current_state, fit_new_state, temp):\n",
    "    return math.exp(-abs(fit_current_state[0]-fit_new_state[0])/temp)"
   ],
   "metadata": {
    "collapsed": false,
    "ExecuteTime": {
     "end_time": "2023-10-31T22:46:19.833341Z",
     "start_time": "2023-10-31T22:46:19.820701Z"
    }
   },
   "id": "8df17dfc75fd61b7"
  },
  {
   "cell_type": "code",
   "execution_count": 151,
   "outputs": [
    {
     "name": "stdout",
     "output_type": "stream",
     "text": [
      "SETS\n",
      "[[ True  True False ... False  True False]\n",
      " [ True False False ...  True False  True]\n",
      " [False False False ... False  True  True]\n",
      " ...\n",
      " [False False  True ... False False  True]\n",
      " [False False False ... False False False]\n",
      " [False False False ...  True False  True]]\n",
      "[False, False, False, False, False, False, False, False, False, False, False, False, False, False, False, False, False, False, False, False, False, False, False, False, False, False, False, False, False, False, False, False, False, False, False, False, False, False, False, False, False, False, False, False, False, False, False, False, False, False, False, False, False, False, False, False, False, False, False, False, False, False, False, False, False, False, False, False, False, False, False, False, False, False, False, False, False, False, False, False, False, False, False, False, False, False, False, False, False, False, False, False, False, False, False, False, False, False, False, False]\n",
      "(0, 0)\n",
      "Step 0 : (29, -1)\n",
      "Step 1 : (47, -2)\n",
      "Step 2 : (61, -3)\n",
      "Step 3 : (47, -2)\n",
      "Step 4 : (66, -3)\n",
      "Step 5 : (76, -4)\n",
      "Step 6 : (83, -5)\n",
      "Step 7 : (86, -6)\n",
      "Step 8 : (93, -7)\n",
      "Step 9 : (94, -8)\n",
      "Step 10 : (91, -7)\n",
      "Step 11 : (94, -8)\n",
      "Step 12 : (97, -9)\n",
      "Step 13 : (99, -10)\n",
      "Step 14 : (100, -11)\n",
      "Step 15 : (100, -12)\n",
      "Step 16 : (100, -13)\n",
      "Step 17 : (100, -14)\n",
      "Step 18 : (100, -15)\n",
      "Step 19 : (100, -16)\n",
      "Step 20 : (100, -17)\n",
      "Step 21 : (100, -18)\n",
      "Step 22 : (100, -19)\n",
      "Step 23 : (100, -20)\n",
      "Step 24 : (100, -21)\n",
      "Step 25 : (100, -22)\n",
      "Step 26 : (100, -21)\n",
      "Step 27 : (100, -22)\n",
      "Step 28 : (100, -23)\n",
      "Step 29 : (100, -24)\n",
      "Step 30 : (100, -25)\n",
      "Step 31 : (100, -26)\n",
      "Step 32 : (100, -27)\n",
      "Step 33 : (100, -26)\n",
      "Step 34 : (100, -27)\n",
      "Step 35 : (100, -28)\n",
      "Step 36 : (100, -27)\n",
      "Step 37 : (100, -28)\n",
      "Step 38 : (100, -27)\n",
      "Step 39 : (100, -28)\n",
      "Step 40 : (100, -29)\n",
      "Step 41 : (100, -28)\n",
      "Step 42 : (100, -29)\n",
      "Step 43 : (100, -30)\n",
      "Step 44 : (100, -31)\n",
      "Step 45 : (100, -32)\n",
      "Step 46 : (100, -31)\n",
      "Step 47 : (100, -32)\n",
      "Step 48 : (100, -33)\n",
      "Step 49 : (100, -34)\n",
      "Step 50 : (100, -35)\n",
      "Step 51 : (100, -34)\n",
      "Step 52 : (100, -33)\n",
      "Step 53 : (100, -32)\n",
      "Step 54 : (100, -33)\n",
      "Step 55 : (100, -34)\n",
      "Step 56 : (100, -35)\n",
      "Step 57 : (100, -36)\n",
      "Step 58 : (100, -37)\n",
      "Step 59 : (100, -36)\n",
      "Step 60 : (100, -37)\n",
      "Step 61 : (100, -36)\n",
      "Step 62 : (100, -37)\n",
      "Step 63 : (100, -36)\n",
      "Step 64 : (100, -37)\n",
      "Step 65 : (100, -38)\n",
      "Step 66 : (100, -39)\n",
      "Step 67 : (100, -38)\n",
      "Step 68 : (100, -37)\n",
      "Step 69 : (100, -38)\n",
      "Step 70 : (100, -39)\n",
      "Step 71 : (100, -38)\n",
      "Step 72 : (100, -39)\n",
      "Step 73 : (100, -38)\n",
      "Step 74 : (100, -37)\n",
      "Step 75 : (100, -38)\n",
      "Step 76 : (100, -39)\n",
      "Step 77 : (100, -40)\n",
      "Step 78 : (100, -39)\n",
      "Step 79 : (100, -38)\n",
      "Step 80 : (100, -37)\n",
      "Step 81 : (100, -38)\n",
      "Step 82 : (100, -37)\n",
      "Step 83 : (100, -38)\n",
      "Step 84 : (100, -39)\n",
      "Step 85 : (100, -40)\n",
      "Step 86 : (100, -41)\n",
      "Step 87 : (100, -42)\n",
      "Step 88 : (100, -43)\n",
      "Step 89 : (100, -44)\n",
      "Step 90 : (100, -43)\n",
      "Step 91 : (100, -44)\n",
      "Step 92 : (100, -45)\n",
      "Step 93 : (100, -46)\n",
      "Step 94 : (100, -45)\n",
      "Step 95 : (100, -44)\n",
      "Step 96 : (100, -43)\n",
      "Step 97 : (100, -42)\n",
      "Step 98 : (100, -41)\n",
      "Step 99 : (100, -40)\n"
     ]
    }
   ],
   "source": [
    "current_state = [choice([False, False, False, False, False, False]) for _ in range(NUM_SETS)]\n",
    "print(\"SETS\", SETS, current_state, fitness(current_state), sep=\"\\n\")\n",
    "temp = ITERATIONS\n",
    "for step in range(ITERATIONS):\n",
    "    new_state = tweak(current_state)\n",
    "    temp = temp - step * 0.005\n",
    "    p = compute_p(fitness(current_state), fitness(new_state), temp)\n",
    "    if ((fitness(new_state) >= fitness(current_state)) or random() < p) and temp > 0:\n",
    "        current_state = new_state\n",
    "        print(\"Step\", step, \":\", fitness(current_state))"
   ],
   "metadata": {
    "collapsed": false,
    "ExecuteTime": {
     "end_time": "2023-10-31T22:51:28.062297Z",
     "start_time": "2023-10-31T22:51:28.055186Z"
    }
   },
   "id": "a2c460f820e827d3"
  },
  {
   "cell_type": "markdown",
   "source": [
    "# Tabu Search"
   ],
   "metadata": {
    "collapsed": false
   },
   "id": "35f0c43e05d9eb48"
  },
  {
   "cell_type": "code",
   "execution_count": 141,
   "outputs": [],
   "source": [],
   "metadata": {
    "collapsed": false,
    "ExecuteTime": {
     "end_time": "2023-10-31T22:51:10.683924Z",
     "start_time": "2023-10-31T22:51:10.679297Z"
    }
   },
   "id": "ec5f8e697a8a6c9a"
  },
  {
   "cell_type": "code",
   "execution_count": null,
   "outputs": [],
   "source": [],
   "metadata": {
    "collapsed": false
   },
   "id": "74daf3e4a13c083d"
  }
 ],
 "metadata": {
  "kernelspec": {
   "display_name": "Python 3 (ipykernel)",
   "language": "python",
   "name": "python3"
  },
  "language_info": {
   "codemirror_mode": {
    "name": "ipython",
    "version": 3
   },
   "file_extension": ".py",
   "mimetype": "text/x-python",
   "name": "python",
   "nbconvert_exporter": "python",
   "pygments_lexer": "ipython3",
   "version": "3.11.2"
  }
 },
 "nbformat": 4,
 "nbformat_minor": 5
}

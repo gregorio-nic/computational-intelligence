{
 "cells": [
  {
   "cell_type": "markdown",
   "metadata": {},
   "source": [
    "Copyright **`(c)`** 2023 Giovanni Squillero `<giovanni.squillero@polito.it>`  \n",
    "[`https://github.com/squillero/computational-intelligence`](https://github.com/squillero/computational-intelligence)  \n",
    "Free for personal or classroom use; see [`LICENSE.md`](https://github.com/squillero/computational-intelligence/blob/master/LICENSE.md) for details.  "
   ]
  },
  {
   "cell_type": "code",
   "execution_count": 7,
   "metadata": {
    "ExecuteTime": {
     "end_time": "2023-12-24T17:19:05.113222Z",
     "start_time": "2023-12-24T17:19:05.083772Z"
    }
   },
   "outputs": [],
   "source": [
    "from itertools import combinations\n",
    "from collections import namedtuple, defaultdict\n",
    "from random import choice\n",
    "from copy import deepcopy\n",
    "\n",
    "from tqdm.auto import tqdm\n",
    "import numpy as np"
   ]
  },
  {
   "cell_type": "code",
   "execution_count": 8,
   "metadata": {
    "ExecuteTime": {
     "end_time": "2023-12-24T17:19:05.850407Z",
     "start_time": "2023-12-24T17:19:05.836720Z"
    }
   },
   "outputs": [],
   "source": [
    "State = namedtuple('State', ['x', 'o'])"
   ]
  },
  {
   "cell_type": "code",
   "execution_count": 9,
   "metadata": {
    "ExecuteTime": {
     "end_time": "2023-12-24T17:19:06.525219Z",
     "start_time": "2023-12-24T17:19:06.513182Z"
    }
   },
   "outputs": [],
   "source": [
    "MAGIC = [2, 7, 6, 9, 5, 1, 4, 3, 8]"
   ]
  },
  {
   "cell_type": "code",
   "execution_count": 10,
   "metadata": {
    "ExecuteTime": {
     "end_time": "2023-12-24T17:19:06.903821Z",
     "start_time": "2023-12-24T17:19:06.894205Z"
    }
   },
   "outputs": [],
   "source": [
    "def print_board(pos):\n",
    "    \"\"\"Nicely prints the board\"\"\"\n",
    "    for r in range(3):\n",
    "        for c in range(3):\n",
    "            i = r * 3 + c\n",
    "            if MAGIC[i] in pos.x:\n",
    "                print('X', end='')\n",
    "            elif MAGIC[i] in pos.o:\n",
    "                print('O', end='')\n",
    "            else:\n",
    "                print('.', end='')\n",
    "        print()\n",
    "    print()"
   ]
  },
  {
   "cell_type": "code",
   "execution_count": 11,
   "metadata": {
    "ExecuteTime": {
     "end_time": "2023-12-24T17:19:09.920130Z",
     "start_time": "2023-12-24T17:19:09.913556Z"
    }
   },
   "outputs": [],
   "source": [
    "def win(elements):\n",
    "    \"\"\"Checks is elements is winning\"\"\"\n",
    "    return any(sum(c) == 15 for c in combinations(elements, 3))\n",
    "\n",
    "def state_value(pos: State):\n",
    "    \"\"\"Evaluate state: +1 first player wins\"\"\"\n",
    "    if win(pos.x):\n",
    "        return 1\n",
    "    elif win(pos.o):\n",
    "        return -1\n",
    "    else:\n",
    "        return 0\n",
    "    \n",
    "    "
   ]
  },
  {
   "cell_type": "code",
   "execution_count": 12,
   "metadata": {
    "ExecuteTime": {
     "end_time": "2023-12-24T17:19:10.523516Z",
     "start_time": "2023-12-24T17:19:10.484187Z"
    }
   },
   "outputs": [],
   "source": [
    "def random_game():\n",
    "    trajectory = list()\n",
    "    state = State(set(), set())\n",
    "    available = set(range(1, 9+1))\n",
    "    while available:\n",
    "        x = choice(list(available))\n",
    "        state.x.add(x)\n",
    "        trajectory.append(deepcopy(state))\n",
    "        available.remove(x)\n",
    "        if win(state.x) or not available:\n",
    "            break\n",
    "\n",
    "        o = choice(list(available))\n",
    "        state.o.add(o)\n",
    "        trajectory.append(deepcopy(state))\n",
    "        available.remove(o)\n",
    "        if win(state.o):\n",
    "            break\n",
    "    return trajectory"
   ]
  },
  {
   "cell_type": "code",
   "execution_count": 13,
   "metadata": {
    "ExecuteTime": {
     "end_time": "2023-12-24T17:21:50.378384Z",
     "start_time": "2023-12-24T17:19:11.131847Z"
    }
   },
   "outputs": [
    {
     "data": {
      "text/plain": "  0%|          | 0/500000 [00:00<?, ?it/s]",
      "application/vnd.jupyter.widget-view+json": {
       "version_major": 2,
       "version_minor": 0,
       "model_id": "d591f7f8e68044e59a229a8434c4351c"
      }
     },
     "metadata": {},
     "output_type": "display_data"
    }
   ],
   "source": [
    "value_dictionary = defaultdict(float)\n",
    "hit_state = defaultdict(int)\n",
    "epsilon = 0.001\n",
    "\n",
    "for steps in tqdm(range(500_000)):\n",
    "    trajectory = random_game()\n",
    "    final_reward = state_value(trajectory[-1])\n",
    "    for state in trajectory:\n",
    "        hashable_state = (frozenset(state.x), frozenset(state.o))\n",
    "        hit_state[hashable_state] += 1\n",
    "        value_dictionary[hashable_state] = value_dictionary[\n",
    "            hashable_state\n",
    "        ] + epsilon * (final_reward - value_dictionary[hashable_state])"
   ]
  },
  {
   "cell_type": "code",
   "execution_count": 16,
   "metadata": {
    "ExecuteTime": {
     "end_time": "2023-12-24T17:30:17.729170Z",
     "start_time": "2023-12-24T17:30:17.686399Z"
    }
   },
   "outputs": [
    {
     "data": {
      "text/plain": "[((frozenset({1, 2, 3, 6, 8}), frozenset({4, 5, 7, 9})), 0.9191579346880341),\n ((frozenset({1, 2, 3, 4, 9}), frozenset({5, 6, 7, 8})), 0.9186711800754285),\n ((frozenset({2, 6, 7, 8, 9}), frozenset({1, 3, 4, 5})), 0.9164442602253164),\n ((frozenset({1, 2, 3, 6, 7}), frozenset({4, 5, 8, 9})), 0.9156884847308895),\n ((frozenset({2, 3, 4, 6, 9}), frozenset({1, 5, 7, 8})), 0.9156884847308895),\n ((frozenset({2, 3, 6, 7, 9}), frozenset({1, 4, 5, 8})), 0.9145847241687919),\n ((frozenset({1, 3, 5, 6, 9}), frozenset({2, 4, 7, 8})), 0.9128583491447205),\n ((frozenset({1, 6, 7, 8, 9}), frozenset({2, 3, 4, 5})), 0.9126838040690546),\n ((frozenset({1, 2, 4, 7, 9}), frozenset({3, 5, 6, 8})), 0.9125964004695241),\n ((frozenset({3, 5, 6, 7, 9}), frozenset({1, 2, 4, 8})), 0.9123336643739864)]"
     },
     "execution_count": 16,
     "metadata": {},
     "output_type": "execute_result"
    }
   ],
   "source": [
    "sorted(value_dictionary.items(), key=lambda e: e[1], reverse=True)[:10]"
   ]
  },
  {
   "cell_type": "code",
   "execution_count": 29,
   "metadata": {},
   "outputs": [
    {
     "data": {
      "text/plain": [
       "5477"
      ]
     },
     "execution_count": 29,
     "metadata": {},
     "output_type": "execute_result"
    }
   ],
   "source": [
    "len(hit_state)"
   ]
  },
  {
   "cell_type": "code",
   "execution_count": 19,
   "outputs": [],
   "source": [
    "EXP_RATE = 0.3"
   ],
   "metadata": {
    "collapsed": false,
    "ExecuteTime": {
     "end_time": "2023-12-24T17:40:22.585533Z",
     "start_time": "2023-12-24T17:40:22.571081Z"
    }
   }
  },
  {
   "cell_type": "code",
   "execution_count": 22,
   "outputs": [],
   "source": [
    "def chooseAction(available_positions, actual_state, value_dictionary):\n",
    "        if np.random.uniform(0, 1) <= EXP_RATE:\n",
    "            # take random action\n",
    "            action = choice(list(available_positions))   \n",
    "        else:\n",
    "            value_max = -999\n",
    "            for p in available_positions:\n",
    "                # next_board = current_board.copy()\n",
    "                # next_board[p] = symbol\n",
    "                next_state = deepcopy(actual_state)\n",
    "                next_state.x.add(p)\n",
    "                hashable_state = (frozenset(next_state.x), frozenset(next_state.o))\n",
    "                \n",
    "                value = 0 if value_dictionary.get(hashable_state) is None else value_dictionary.get(hashable_state)\n",
    "                # print(\"value\", value)\n",
    "                if value >= value_max:\n",
    "                    value_max = value\n",
    "                    action = p\n",
    "        # print(\"{} takes action {}\".format(self.name, action))\n",
    "        return action"
   ],
   "metadata": {
    "collapsed": false,
    "ExecuteTime": {
     "end_time": "2023-12-24T17:41:53.838164Z",
     "start_time": "2023-12-24T17:41:53.821497Z"
    }
   }
  },
  {
   "cell_type": "code",
   "execution_count": 31,
   "outputs": [
    {
     "name": "stdout",
     "output_type": "stream",
     "text": [
      "X..\n",
      ".X.\n",
      "OOX\n"
     ]
    }
   ],
   "source": [
    "trajectory = list()\n",
    "state = State(set(), set())\n",
    "available = set(range(1, 9+1))\n",
    "while available:\n",
    "    x = chooseAction(available, state, value_dictionary)\n",
    "    state.x.add(x)\n",
    "    trajectory.append(deepcopy(state))\n",
    "    available.remove(x)\n",
    "    if win(state.x) or not available:\n",
    "        break\n",
    "\n",
    "    o = choice(list(available))\n",
    "    state.o.add(o)\n",
    "    trajectory.append(deepcopy(state))\n",
    "    available.remove(o)\n",
    "    if win(state.o):\n",
    "        break\n",
    "\n",
    "print_board(state)\n"
   ],
   "metadata": {
    "collapsed": false,
    "ExecuteTime": {
     "end_time": "2023-12-24T17:42:17.368099Z",
     "start_time": "2023-12-24T17:42:17.350625Z"
    }
   }
  },
  {
   "cell_type": "code",
   "execution_count": null,
   "outputs": [],
   "source": [],
   "metadata": {
    "collapsed": false
   }
  }
 ],
 "metadata": {
  "kernelspec": {
   "display_name": "ci-P-7LqQ3C-py3.11",
   "language": "python",
   "name": "python3"
  },
  "language_info": {
   "codemirror_mode": {
    "name": "ipython",
    "version": 3
   },
   "file_extension": ".py",
   "mimetype": "text/x-python",
   "name": "python",
   "nbconvert_exporter": "python",
   "pygments_lexer": "ipython3",
   "version": "3.11.2"
  }
 },
 "nbformat": 4,
 "nbformat_minor": 2
}
